{
 "cells": [
  {
   "cell_type": "markdown",
   "metadata": {},
   "source": [
    "## The Tensorflow Trials"
   ]
  },
  {
   "cell_type": "markdown",
   "metadata": {},
   "source": [
    "For much of the past week, you've been using tensors with your Deep Learning models. Over the course of today's challenges, you'll be manipulating tensors extensively and working with some unconventional model architectures. \n",
    "\n",
    "\n",
    "In this warm up, you'll be introduced to some new methods. \n",
    "\n",
    "All the methods here are going to make tackling challenges later in the day 100x easier, so if you do get stuck later on, make sure you come back here to see how you achieved the right answers. "
   ]
  },
  {
   "cell_type": "code",
   "execution_count": 32,
   "metadata": {},
   "outputs": [],
   "source": [
    "import tensorflow as tf\n"
   ]
  },
  {
   "cell_type": "markdown",
   "metadata": {},
   "source": [
    "A) Use `tf.ones` to create a tensor `a` filled with ones of shape (3,3)."
   ]
  },
  {
   "cell_type": "code",
   "execution_count": 33,
   "metadata": {},
   "outputs": [],
   "source": [
    "a = tf.ones(shape=(3, 3))\n"
   ]
  },
  {
   "cell_type": "markdown",
   "metadata": {},
   "source": [
    "B) Use tf.expand_dims to make `a` an object of shape (1,3,3) called `b`."
   ]
  },
  {
   "cell_type": "code",
   "execution_count": 34,
   "metadata": {},
   "outputs": [],
   "source": [
    "b = tf.expand_dims(a, axis=0)\n"
   ]
  },
  {
   "cell_type": "markdown",
   "metadata": {},
   "source": [
    "C) Create a tensor `c` filled with zeroes of size (9,1)"
   ]
  },
  {
   "cell_type": "code",
   "execution_count": 35,
   "metadata": {},
   "outputs": [],
   "source": [
    "c = tf.zeros(shape=(9, 1))\n"
   ]
  },
  {
   "cell_type": "markdown",
   "metadata": {},
   "source": [
    "D) Reshape `c` to be of shape (1, 3, 3). Name it `d`."
   ]
  },
  {
   "cell_type": "code",
   "execution_count": 36,
   "metadata": {},
   "outputs": [],
   "source": [
    "d = tf.reshape(c, (1, 3, 3))\n"
   ]
  },
  {
   "cell_type": "markdown",
   "metadata": {},
   "source": [
    "E) Use `tf.matmul` to matrix multiply `b` and `d` with each other and now assign the tensor to `e`. "
   ]
  },
  {
   "cell_type": "code",
   "execution_count": 37,
   "metadata": {},
   "outputs": [],
   "source": [
    "e = tf.matmul(b, d)\n"
   ]
  },
  {
   "cell_type": "markdown",
   "metadata": {},
   "source": [
    "F) Below is a `numpy` array. Convert it to a tensor named `array_tensor`. Then use `tf.cast` to ensure it oof dtype `float` not `int`. Assign the result to `f`."
   ]
  },
  {
   "cell_type": "code",
   "execution_count": 38,
   "metadata": {},
   "outputs": [],
   "source": [
    "import numpy as np\n"
   ]
  },
  {
   "cell_type": "code",
   "execution_count": 39,
   "metadata": {},
   "outputs": [],
   "source": [
    "array = np.array([[\n",
    "    [1,2,3],\n",
    "    [1,2,3],\n",
    "    [4,5,6],\n",
    "    [7,8,9]\n",
    "]])\n"
   ]
  },
  {
   "cell_type": "code",
   "execution_count": 40,
   "metadata": {},
   "outputs": [],
   "source": [
    "array_tensor = tf.convert_to_tensor(array)\n",
    "\n",
    "f = tf.cast(array_tensor, dtype=tf.float32)\n"
   ]
  },
  {
   "cell_type": "markdown",
   "metadata": {},
   "source": [
    "G) Select the values in the __last column__ of `f` and save this to `g`. To be clear, `g` should have shape (4,) and contain the values `3,3,6,9`. "
   ]
  },
  {
   "cell_type": "code",
   "execution_count": 41,
   "metadata": {},
   "outputs": [],
   "source": [
    "g = f[:, :, -1]\n",
    "g = tf.squeeze(g)\n"
   ]
  },
  {
   "cell_type": "markdown",
   "metadata": {},
   "source": [
    "H) Expand the dimensions of g so that it's of shape (4,1). Assign this to `h`."
   ]
  },
  {
   "cell_type": "code",
   "execution_count": 42,
   "metadata": {},
   "outputs": [],
   "source": [
    "h = tf.expand_dims(g, axis=-1)\n"
   ]
  },
  {
   "cell_type": "markdown",
   "metadata": {},
   "source": [
    "H) Multiply e with f, using `tf.matmul` with the optional `transpose_b` argument (`e` must come first in your positional arguments, then `f`). Assign this to `h`."
   ]
  },
  {
   "cell_type": "code",
   "execution_count": 43,
   "metadata": {},
   "outputs": [],
   "source": [
    "h = tf.matmul(e, f, transpose_b=True)\n"
   ]
  },
  {
   "cell_type": "markdown",
   "metadata": {},
   "source": [
    "I) Create a `(10,10)` tensor filled with ones. Then use `tf.linaalg.band_part()` to mask out the upper triangle of the matrix (i.e. the upper triangle should all be 0s). Assign to `i`."
   ]
  },
  {
   "cell_type": "code",
   "execution_count": 44,
   "metadata": {},
   "outputs": [],
   "source": [
    "i = tf.ones((10, 10))\n",
    "\n",
    "i = tf.linalg.band_part(i, num_lower=-1, num_upper=0)\n"
   ]
  },
  {
   "cell_type": "markdown",
   "metadata": {},
   "source": [
    "J) Take the `number_list` below and make it a tensor. Assign it to `j`."
   ]
  },
  {
   "cell_type": "code",
   "execution_count": 45,
   "metadata": {},
   "outputs": [],
   "source": [
    "number_list = [1,2,3,4,8]\n"
   ]
  },
  {
   "cell_type": "code",
   "execution_count": 46,
   "metadata": {},
   "outputs": [],
   "source": [
    "j = tf.convert_to_tensor(number_list)\n"
   ]
  },
  {
   "cell_type": "markdown",
   "metadata": {},
   "source": [
    "K) Use `tf.expand_dims` to make `j` into a tensor of shape (1,5). Assign to `k`."
   ]
  },
  {
   "cell_type": "code",
   "execution_count": 47,
   "metadata": {},
   "outputs": [],
   "source": [
    "k = tf.expand_dims(j, axis=0)\n"
   ]
  },
  {
   "cell_type": "markdown",
   "metadata": {},
   "source": [
    "L) Use `tf.tile` to repeat `k` 50 times, with an eventual shape of `(50,5)`. Assign to `l`."
   ]
  },
  {
   "cell_type": "code",
   "execution_count": 48,
   "metadata": {},
   "outputs": [],
   "source": [
    "l = tf.tile(k, [50, 1])\n"
   ]
  },
  {
   "cell_type": "markdown",
   "metadata": {},
   "source": [
    "M) Use a simple Boolean statement to create a tensor containing `True` and `False` values for where `l` does not equal 3. Assign to `m`"
   ]
  },
  {
   "cell_type": "code",
   "execution_count": 49,
   "metadata": {},
   "outputs": [],
   "source": [
    "m = tf.not_equal(l, 3)\n"
   ]
  },
  {
   "cell_type": "markdown",
   "metadata": {},
   "source": [
    "N) Divide every value in you variable `l` (read as \"L\") by 3. Assign to `n`."
   ]
  },
  {
   "cell_type": "code",
   "execution_count": 50,
   "metadata": {},
   "outputs": [],
   "source": [
    "n = l / 3\n"
   ]
  },
  {
   "cell_type": "markdown",
   "metadata": {},
   "source": [
    "O) Use `tf.concat()` to take the list of two tensors below of shape (5,5) and (5,5) each and turn them into a final tensor of shape (10,5). Assign to `o`. Think carefully about the concation axis."
   ]
  },
  {
   "cell_type": "code",
   "execution_count": 51,
   "metadata": {},
   "outputs": [],
   "source": [
    "tensor_list = [tf.ones((5,5)), tf.ones((5,5))]\n"
   ]
  },
  {
   "cell_type": "code",
   "execution_count": 52,
   "metadata": {},
   "outputs": [],
   "source": [
    "o = tf.concat(tensor_list, axis=0)\n"
   ]
  },
  {
   "cell_type": "markdown",
   "metadata": {},
   "source": [
    "### Check your answers"
   ]
  },
  {
   "cell_type": "code",
   "execution_count": 53,
   "metadata": {},
   "outputs": [
    {
     "name": "stdout",
     "output_type": "stream",
     "text": [
      "\n",
      "\u001b[1m============================= test session starts ==============================\u001b[0m\n",
      "platform darwin -- Python 3.10.6, pytest-7.1.3, pluggy-1.0.0 -- /Users/reecepalmer/.pyenv/versions/3.10.6/envs/lewagon/bin/python3\n",
      "cachedir: .pytest_cache\n",
      "rootdir: /Users/reecepalmer/Code/RPalmr/06-Deep-Learning/05-Transformers/data-tensor-trials/tests\n",
      "plugins: dash-2.14.1, asyncio-0.19.0, anyio-3.6.2\n",
      "asyncio: mode=strict\n",
      "\u001b[1mcollecting ... \u001b[0mcollected 15 items\n",
      "\n",
      "test_tensors.py::TestTensors::test_a \u001b[32mPASSED\u001b[0m\u001b[33m                              [  6%]\u001b[0m\n",
      "test_tensors.py::TestTensors::test_b \u001b[32mPASSED\u001b[0m\u001b[33m                              [ 13%]\u001b[0m\n",
      "test_tensors.py::TestTensors::test_c \u001b[32mPASSED\u001b[0m\u001b[33m                              [ 20%]\u001b[0m\n",
      "test_tensors.py::TestTensors::test_d_shape \u001b[32mPASSED\u001b[0m\u001b[33m                        [ 26%]\u001b[0m\n",
      "test_tensors.py::TestTensors::test_e \u001b[32mPASSED\u001b[0m\u001b[33m                              [ 33%]\u001b[0m\n",
      "test_tensors.py::TestTensors::test_f \u001b[32mPASSED\u001b[0m\u001b[33m                              [ 40%]\u001b[0m\n",
      "test_tensors.py::TestTensors::test_g \u001b[32mPASSED\u001b[0m\u001b[33m                              [ 46%]\u001b[0m\n",
      "test_tensors.py::TestTensors::test_h \u001b[32mPASSED\u001b[0m\u001b[33m                              [ 53%]\u001b[0m\n",
      "test_tensors.py::TestTensors::test_i \u001b[32mPASSED\u001b[0m\u001b[33m                              [ 60%]\u001b[0m\n",
      "test_tensors.py::TestTensors::test_j \u001b[32mPASSED\u001b[0m\u001b[33m                              [ 66%]\u001b[0m\n",
      "test_tensors.py::TestTensors::test_k \u001b[32mPASSED\u001b[0m\u001b[33m                              [ 73%]\u001b[0m\n",
      "test_tensors.py::TestTensors::test_l \u001b[32mPASSED\u001b[0m\u001b[33m                              [ 80%]\u001b[0m\n",
      "test_tensors.py::TestTensors::test_m \u001b[32mPASSED\u001b[0m\u001b[33m                              [ 86%]\u001b[0m\n",
      "test_tensors.py::TestTensors::test_n \u001b[32mPASSED\u001b[0m\u001b[33m                              [ 93%]\u001b[0m\n",
      "test_tensors.py::TestTensors::test_o_shape \u001b[32mPASSED\u001b[0m\u001b[33m                        [100%]\u001b[0m\n",
      "\n",
      "\u001b[33m=============================== warnings summary ===============================\u001b[0m\n",
      "../../../../../../.pyenv/versions/3.10.6/envs/lewagon/lib/python3.10/site-packages/tensorflow/core/framework/tensor_shape_pb2.py:18\n",
      "  /Users/reecepalmer/.pyenv/versions/3.10.6/envs/lewagon/lib/python3.10/site-packages/tensorflow/core/framework/tensor_shape_pb2.py:18: DeprecationWarning: Call to deprecated create function FileDescriptor(). Note: Create unlinked descriptors is going to go away. Please use get/find descriptors from generated code or query the descriptor_pool.\n",
      "    DESCRIPTOR = _descriptor.FileDescriptor(\n",
      "\n",
      "../../../../../../.pyenv/versions/3.10.6/envs/lewagon/lib/python3.10/site-packages/tensorflow/core/framework/tensor_shape_pb2.py:36\n",
      "  /Users/reecepalmer/.pyenv/versions/3.10.6/envs/lewagon/lib/python3.10/site-packages/tensorflow/core/framework/tensor_shape_pb2.py:36: DeprecationWarning: Call to deprecated create function FieldDescriptor(). Note: Create unlinked descriptors is going to go away. Please use get/find descriptors from generated code or query the descriptor_pool.\n",
      "    _descriptor.FieldDescriptor(\n",
      "\n",
      "../../../../../../.pyenv/versions/3.10.6/envs/lewagon/lib/python3.10/site-packages/tensorflow/core/framework/tensor_shape_pb2.py:43\n",
      "  /Users/reecepalmer/.pyenv/versions/3.10.6/envs/lewagon/lib/python3.10/site-packages/tensorflow/core/framework/tensor_shape_pb2.py:43: DeprecationWarning: Call to deprecated create function FieldDescriptor(). Note: Create unlinked descriptors is going to go away. Please use get/find descriptors from generated code or query the descriptor_pool.\n",
      "    _descriptor.FieldDescriptor(\n",
      "\n",
      "../../../../../../.pyenv/versions/3.10.6/envs/lewagon/lib/python3.10/site-packages/tensorflow/core/framework/tensor_shape_pb2.py:29\n",
      "  /Users/reecepalmer/.pyenv/versions/3.10.6/envs/lewagon/lib/python3.10/site-packages/tensorflow/core/framework/tensor_shape_pb2.py:29: DeprecationWarning: Call to deprecated create function Descriptor(). Note: Create unlinked descriptors is going to go away. Please use get/find descriptors from generated code or query the descriptor_pool.\n",
      "    _TENSORSHAPEPROTO_DIM = _descriptor.Descriptor(\n",
      "\n",
      "../../../../../../.pyenv/versions/3.10.6/envs/lewagon/lib/python3.10/site-packages/tensorflow/core/framework/tensor_shape_pb2.py:73\n",
      "  /Users/reecepalmer/.pyenv/versions/3.10.6/envs/lewagon/lib/python3.10/site-packages/tensorflow/core/framework/tensor_shape_pb2.py:73: DeprecationWarning: Call to deprecated create function FieldDescriptor(). Note: Create unlinked descriptors is going to go away. Please use get/find descriptors from generated code or query the descriptor_pool.\n",
      "    _descriptor.FieldDescriptor(\n",
      "\n",
      "../../../../../../.pyenv/versions/3.10.6/envs/lewagon/lib/python3.10/site-packages/tensorflow/core/framework/tensor_shape_pb2.py:80\n",
      "  /Users/reecepalmer/.pyenv/versions/3.10.6/envs/lewagon/lib/python3.10/site-packages/tensorflow/core/framework/tensor_shape_pb2.py:80: DeprecationWarning: Call to deprecated create function FieldDescriptor(). Note: Create unlinked descriptors is going to go away. Please use get/find descriptors from generated code or query the descriptor_pool.\n",
      "    _descriptor.FieldDescriptor(\n",
      "\n",
      "../../../../../../.pyenv/versions/3.10.6/envs/lewagon/lib/python3.10/site-packages/tensorflow/core/framework/tensor_shape_pb2.py:66\n",
      "  /Users/reecepalmer/.pyenv/versions/3.10.6/envs/lewagon/lib/python3.10/site-packages/tensorflow/core/framework/tensor_shape_pb2.py:66: DeprecationWarning: Call to deprecated create function Descriptor(). Note: Create unlinked descriptors is going to go away. Please use get/find descriptors from generated code or query the descriptor_pool.\n",
      "    _TENSORSHAPEPROTO = _descriptor.Descriptor(\n",
      "\n",
      "../../../../../../.pyenv/versions/3.10.6/envs/lewagon/lib/python3.10/site-packages/tensorflow/core/framework/types_pb2.py:19\n",
      "  /Users/reecepalmer/.pyenv/versions/3.10.6/envs/lewagon/lib/python3.10/site-packages/tensorflow/core/framework/types_pb2.py:19: DeprecationWarning: Call to deprecated create function FileDescriptor(). Note: Create unlinked descriptors is going to go away. Please use get/find descriptors from generated code or query the descriptor_pool.\n",
      "    DESCRIPTOR = _descriptor.FileDescriptor(\n",
      "\n",
      "../../../../../../.pyenv/versions/3.10.6/envs/lewagon/lib/python3.10/site-packages/tensorflow/core/framework/types_pb2.py:33\n",
      "  /Users/reecepalmer/.pyenv/versions/3.10.6/envs/lewagon/lib/python3.10/site-packages/tensorflow/core/framework/types_pb2.py:33: DeprecationWarning: Call to deprecated create function EnumValueDescriptor(). Note: Create unlinked descriptors is going to go away. Please use get/find descriptors from generated code or query the descriptor_pool.\n",
      "    _descriptor.EnumValueDescriptor(\n",
      "\n",
      "../../../../../../.pyenv/versions/3.10.6/envs/lewagon/lib/python3.10/site-packages/tensorflow/core/framework/types_pb2.py:37\n",
      "  /Users/reecepalmer/.pyenv/versions/3.10.6/envs/lewagon/lib/python3.10/site-packages/tensorflow/core/framework/types_pb2.py:37: DeprecationWarning: Call to deprecated create function EnumValueDescriptor(). Note: Create unlinked descriptors is going to go away. Please use get/find descriptors from generated code or query the descriptor_pool.\n",
      "    _descriptor.EnumValueDescriptor(\n",
      "\n",
      "../../../../../../.pyenv/versions/3.10.6/envs/lewagon/lib/python3.10/site-packages/tensorflow/core/framework/types_pb2.py:41\n",
      "  /Users/reecepalmer/.pyenv/versions/3.10.6/envs/lewagon/lib/python3.10/site-packages/tensorflow/core/framework/types_pb2.py:41: DeprecationWarning: Call to deprecated create function EnumValueDescriptor(). Note: Create unlinked descriptors is going to go away. Please use get/find descriptors from generated code or query the descriptor_pool.\n",
      "    _descriptor.EnumValueDescriptor(\n",
      "\n",
      "../../../../../../.pyenv/versions/3.10.6/envs/lewagon/lib/python3.10/site-packages/tensorflow/core/framework/types_pb2.py:45\n",
      "  /Users/reecepalmer/.pyenv/versions/3.10.6/envs/lewagon/lib/python3.10/site-packages/tensorflow/core/framework/types_pb2.py:45: DeprecationWarning: Call to deprecated create function EnumValueDescriptor(). Note: Create unlinked descriptors is going to go away. Please use get/find descriptors from generated code or query the descriptor_pool.\n",
      "    _descriptor.EnumValueDescriptor(\n",
      "\n",
      "../../../../../../.pyenv/versions/3.10.6/envs/lewagon/lib/python3.10/site-packages/tensorflow/core/framework/types_pb2.py:49\n",
      "  /Users/reecepalmer/.pyenv/versions/3.10.6/envs/lewagon/lib/python3.10/site-packages/tensorflow/core/framework/types_pb2.py:49: DeprecationWarning: Call to deprecated create function EnumValueDescriptor(). Note: Create unlinked descriptors is going to go away. Please use get/find descriptors from generated code or query the descriptor_pool.\n",
      "    _descriptor.EnumValueDescriptor(\n",
      "\n",
      "../../../../../../.pyenv/versions/3.10.6/envs/lewagon/lib/python3.10/site-packages/tensorflow/core/framework/types_pb2.py:53\n",
      "  /Users/reecepalmer/.pyenv/versions/3.10.6/envs/lewagon/lib/python3.10/site-packages/tensorflow/core/framework/types_pb2.py:53: DeprecationWarning: Call to deprecated create function EnumValueDescriptor(). Note: Create unlinked descriptors is going to go away. Please use get/find descriptors from generated code or query the descriptor_pool.\n",
      "    _descriptor.EnumValueDescriptor(\n",
      "\n",
      "../../../../../../.pyenv/versions/3.10.6/envs/lewagon/lib/python3.10/site-packages/tensorflow/core/framework/types_pb2.py:57\n",
      "  /Users/reecepalmer/.pyenv/versions/3.10.6/envs/lewagon/lib/python3.10/site-packages/tensorflow/core/framework/types_pb2.py:57: DeprecationWarning: Call to deprecated create function EnumValueDescriptor(). Note: Create unlinked descriptors is going to go away. Please use get/find descriptors from generated code or query the descriptor_pool.\n",
      "    _descriptor.EnumValueDescriptor(\n",
      "\n",
      "../../../../../../.pyenv/versions/3.10.6/envs/lewagon/lib/python3.10/site-packages/tensorflow/core/framework/types_pb2.py:61\n",
      "  /Users/reecepalmer/.pyenv/versions/3.10.6/envs/lewagon/lib/python3.10/site-packages/tensorflow/core/framework/types_pb2.py:61: DeprecationWarning: Call to deprecated create function EnumValueDescriptor(). Note: Create unlinked descriptors is going to go away. Please use get/find descriptors from generated code or query the descriptor_pool.\n",
      "    _descriptor.EnumValueDescriptor(\n",
      "\n",
      "../../../../../../.pyenv/versions/3.10.6/envs/lewagon/lib/python3.10/site-packages/tensorflow/core/framework/types_pb2.py:65\n",
      "  /Users/reecepalmer/.pyenv/versions/3.10.6/envs/lewagon/lib/python3.10/site-packages/tensorflow/core/framework/types_pb2.py:65: DeprecationWarning: Call to deprecated create function EnumValueDescriptor(). Note: Create unlinked descriptors is going to go away. Please use get/find descriptors from generated code or query the descriptor_pool.\n",
      "    _descriptor.EnumValueDescriptor(\n",
      "\n",
      "../../../../../../.pyenv/versions/3.10.6/envs/lewagon/lib/python3.10/site-packages/tensorflow/core/framework/types_pb2.py:69\n",
      "  /Users/reecepalmer/.pyenv/versions/3.10.6/envs/lewagon/lib/python3.10/site-packages/tensorflow/core/framework/types_pb2.py:69: DeprecationWarning: Call to deprecated create function EnumValueDescriptor(). Note: Create unlinked descriptors is going to go away. Please use get/find descriptors from generated code or query the descriptor_pool.\n",
      "    _descriptor.EnumValueDescriptor(\n",
      "\n",
      "../../../../../../.pyenv/versions/3.10.6/envs/lewagon/lib/python3.10/site-packages/tensorflow/core/framework/types_pb2.py:73\n",
      "  /Users/reecepalmer/.pyenv/versions/3.10.6/envs/lewagon/lib/python3.10/site-packages/tensorflow/core/framework/types_pb2.py:73: DeprecationWarning: Call to deprecated create function EnumValueDescriptor(). Note: Create unlinked descriptors is going to go away. Please use get/find descriptors from generated code or query the descriptor_pool.\n",
      "    _descriptor.EnumValueDescriptor(\n",
      "\n",
      "../../../../../../.pyenv/versions/3.10.6/envs/lewagon/lib/python3.10/site-packages/tensorflow/core/framework/types_pb2.py:77\n",
      "  /Users/reecepalmer/.pyenv/versions/3.10.6/envs/lewagon/lib/python3.10/site-packages/tensorflow/core/framework/types_pb2.py:77: DeprecationWarning: Call to deprecated create function EnumValueDescriptor(). Note: Create unlinked descriptors is going to go away. Please use get/find descriptors from generated code or query the descriptor_pool.\n",
      "    _descriptor.EnumValueDescriptor(\n",
      "\n",
      "../../../../../../.pyenv/versions/3.10.6/envs/lewagon/lib/python3.10/site-packages/tensorflow/core/framework/types_pb2.py:81\n",
      "  /Users/reecepalmer/.pyenv/versions/3.10.6/envs/lewagon/lib/python3.10/site-packages/tensorflow/core/framework/types_pb2.py:81: DeprecationWarning: Call to deprecated create function EnumValueDescriptor(). Note: Create unlinked descriptors is going to go away. Please use get/find descriptors from generated code or query the descriptor_pool.\n",
      "    _descriptor.EnumValueDescriptor(\n",
      "\n",
      "../../../../../../.pyenv/versions/3.10.6/envs/lewagon/lib/python3.10/site-packages/tensorflow/core/framework/types_pb2.py:85\n",
      "  /Users/reecepalmer/.pyenv/versions/3.10.6/envs/lewagon/lib/python3.10/site-packages/tensorflow/core/framework/types_pb2.py:85: DeprecationWarning: Call to deprecated create function EnumValueDescriptor(). Note: Create unlinked descriptors is going to go away. Please use get/find descriptors from generated code or query the descriptor_pool.\n",
      "    _descriptor.EnumValueDescriptor(\n",
      "\n",
      "../../../../../../.pyenv/versions/3.10.6/envs/lewagon/lib/python3.10/site-packages/tensorflow/core/framework/types_pb2.py:89\n",
      "  /Users/reecepalmer/.pyenv/versions/3.10.6/envs/lewagon/lib/python3.10/site-packages/tensorflow/core/framework/types_pb2.py:89: DeprecationWarning: Call to deprecated create function EnumValueDescriptor(). Note: Create unlinked descriptors is going to go away. Please use get/find descriptors from generated code or query the descriptor_pool.\n",
      "    _descriptor.EnumValueDescriptor(\n",
      "\n",
      "../../../../../../.pyenv/versions/3.10.6/envs/lewagon/lib/python3.10/site-packages/tensorflow/core/framework/types_pb2.py:93\n",
      "  /Users/reecepalmer/.pyenv/versions/3.10.6/envs/lewagon/lib/python3.10/site-packages/tensorflow/core/framework/types_pb2.py:93: DeprecationWarning: Call to deprecated create function EnumValueDescriptor(). Note: Create unlinked descriptors is going to go away. Please use get/find descriptors from generated code or query the descriptor_pool.\n",
      "    _descriptor.EnumValueDescriptor(\n",
      "\n",
      "../../../../../../.pyenv/versions/3.10.6/envs/lewagon/lib/python3.10/site-packages/tensorflow/core/framework/types_pb2.py:97\n",
      "  /Users/reecepalmer/.pyenv/versions/3.10.6/envs/lewagon/lib/python3.10/site-packages/tensorflow/core/framework/types_pb2.py:97: DeprecationWarning: Call to deprecated create function EnumValueDescriptor(). Note: Create unlinked descriptors is going to go away. Please use get/find descriptors from generated code or query the descriptor_pool.\n",
      "    _descriptor.EnumValueDescriptor(\n",
      "\n",
      "../../../../../../.pyenv/versions/3.10.6/envs/lewagon/lib/python3.10/site-packages/tensorflow/core/framework/types_pb2.py:101\n",
      "  /Users/reecepalmer/.pyenv/versions/3.10.6/envs/lewagon/lib/python3.10/site-packages/tensorflow/core/framework/types_pb2.py:101: DeprecationWarning: Call to deprecated create function EnumValueDescriptor(). Note: Create unlinked descriptors is going to go away. Please use get/find descriptors from generated code or query the descriptor_pool.\n",
      "    _descriptor.EnumValueDescriptor(\n",
      "\n",
      "../../../../../../.pyenv/versions/3.10.6/envs/lewagon/lib/python3.10/site-packages/tensorflow/core/framework/types_pb2.py:105\n",
      "  /Users/reecepalmer/.pyenv/versions/3.10.6/envs/lewagon/lib/python3.10/site-packages/tensorflow/core/framework/types_pb2.py:105: DeprecationWarning: Call to deprecated create function EnumValueDescriptor(). Note: Create unlinked descriptors is going to go away. Please use get/find descriptors from generated code or query the descriptor_pool.\n",
      "    _descriptor.EnumValueDescriptor(\n",
      "\n",
      "../../../../../../.pyenv/versions/3.10.6/envs/lewagon/lib/python3.10/site-packages/tensorflow/core/framework/types_pb2.py:109\n",
      "  /Users/reecepalmer/.pyenv/versions/3.10.6/envs/lewagon/lib/python3.10/site-packages/tensorflow/core/framework/types_pb2.py:109: DeprecationWarning: Call to deprecated create function EnumValueDescriptor(). Note: Create unlinked descriptors is going to go away. Please use get/find descriptors from generated code or query the descriptor_pool.\n",
      "    _descriptor.EnumValueDescriptor(\n",
      "\n",
      "../../../../../../.pyenv/versions/3.10.6/envs/lewagon/lib/python3.10/site-packages/tensorflow/core/framework/types_pb2.py:113\n",
      "  /Users/reecepalmer/.pyenv/versions/3.10.6/envs/lewagon/lib/python3.10/site-packages/tensorflow/core/framework/types_pb2.py:113: DeprecationWarning: Call to deprecated create function EnumValueDescriptor(). Note: Create unlinked descriptors is going to go away. Please use get/find descriptors from generated code or query the descriptor_pool.\n",
      "    _descriptor.EnumValueDescriptor(\n",
      "\n",
      "../../../../../../.pyenv/versions/3.10.6/envs/lewagon/lib/python3.10/site-packages/tensorflow/core/framework/types_pb2.py:117\n",
      "  /Users/reecepalmer/.pyenv/versions/3.10.6/envs/lewagon/lib/python3.10/site-packages/tensorflow/core/framework/types_pb2.py:117: DeprecationWarning: Call to deprecated create function EnumValueDescriptor(). Note: Create unlinked descriptors is going to go away. Please use get/find descriptors from generated code or query the descriptor_pool.\n",
      "    _descriptor.EnumValueDescriptor(\n",
      "\n",
      "../../../../../../.pyenv/versions/3.10.6/envs/lewagon/lib/python3.10/site-packages/tensorflow/core/framework/types_pb2.py:121\n",
      "  /Users/reecepalmer/.pyenv/versions/3.10.6/envs/lewagon/lib/python3.10/site-packages/tensorflow/core/framework/types_pb2.py:121: DeprecationWarning: Call to deprecated create function EnumValueDescriptor(). Note: Create unlinked descriptors is going to go away. Please use get/find descriptors from generated code or query the descriptor_pool.\n",
      "    _descriptor.EnumValueDescriptor(\n",
      "\n",
      "../../../../../../.pyenv/versions/3.10.6/envs/lewagon/lib/python3.10/site-packages/tensorflow/core/framework/types_pb2.py:125\n",
      "  /Users/reecepalmer/.pyenv/versions/3.10.6/envs/lewagon/lib/python3.10/site-packages/tensorflow/core/framework/types_pb2.py:125: DeprecationWarning: Call to deprecated create function EnumValueDescriptor(). Note: Create unlinked descriptors is going to go away. Please use get/find descriptors from generated code or query the descriptor_pool.\n",
      "    _descriptor.EnumValueDescriptor(\n",
      "\n",
      "../../../../../../.pyenv/versions/3.10.6/envs/lewagon/lib/python3.10/site-packages/tensorflow/core/framework/types_pb2.py:129\n",
      "  /Users/reecepalmer/.pyenv/versions/3.10.6/envs/lewagon/lib/python3.10/site-packages/tensorflow/core/framework/types_pb2.py:129: DeprecationWarning: Call to deprecated create function EnumValueDescriptor(). Note: Create unlinked descriptors is going to go away. Please use get/find descriptors from generated code or query the descriptor_pool.\n",
      "    _descriptor.EnumValueDescriptor(\n",
      "\n",
      "../../../../../../.pyenv/versions/3.10.6/envs/lewagon/lib/python3.10/site-packages/tensorflow/core/framework/types_pb2.py:133\n",
      "  /Users/reecepalmer/.pyenv/versions/3.10.6/envs/lewagon/lib/python3.10/site-packages/tensorflow/core/framework/types_pb2.py:133: DeprecationWarning: Call to deprecated create function EnumValueDescriptor(). Note: Create unlinked descriptors is going to go away. Please use get/find descriptors from generated code or query the descriptor_pool.\n",
      "    _descriptor.EnumValueDescriptor(\n",
      "\n",
      "../../../../../../.pyenv/versions/3.10.6/envs/lewagon/lib/python3.10/site-packages/tensorflow/core/framework/types_pb2.py:137\n",
      "  /Users/reecepalmer/.pyenv/versions/3.10.6/envs/lewagon/lib/python3.10/site-packages/tensorflow/core/framework/types_pb2.py:137: DeprecationWarning: Call to deprecated create function EnumValueDescriptor(). Note: Create unlinked descriptors is going to go away. Please use get/find descriptors from generated code or query the descriptor_pool.\n",
      "    _descriptor.EnumValueDescriptor(\n",
      "\n",
      "../../../../../../.pyenv/versions/3.10.6/envs/lewagon/lib/python3.10/site-packages/tensorflow/core/framework/types_pb2.py:141\n",
      "  /Users/reecepalmer/.pyenv/versions/3.10.6/envs/lewagon/lib/python3.10/site-packages/tensorflow/core/framework/types_pb2.py:141: DeprecationWarning: Call to deprecated create function EnumValueDescriptor(). Note: Create unlinked descriptors is going to go away. Please use get/find descriptors from generated code or query the descriptor_pool.\n",
      "    _descriptor.EnumValueDescriptor(\n",
      "\n",
      "../../../../../../.pyenv/versions/3.10.6/envs/lewagon/lib/python3.10/site-packages/tensorflow/core/framework/types_pb2.py:145\n",
      "  /Users/reecepalmer/.pyenv/versions/3.10.6/envs/lewagon/lib/python3.10/site-packages/tensorflow/core/framework/types_pb2.py:145: DeprecationWarning: Call to deprecated create function EnumValueDescriptor(). Note: Create unlinked descriptors is going to go away. Please use get/find descriptors from generated code or query the descriptor_pool.\n",
      "    _descriptor.EnumValueDescriptor(\n",
      "\n",
      "../../../../../../.pyenv/versions/3.10.6/envs/lewagon/lib/python3.10/site-packages/tensorflow/core/framework/types_pb2.py:149\n",
      "  /Users/reecepalmer/.pyenv/versions/3.10.6/envs/lewagon/lib/python3.10/site-packages/tensorflow/core/framework/types_pb2.py:149: DeprecationWarning: Call to deprecated create function EnumValueDescriptor(). Note: Create unlinked descriptors is going to go away. Please use get/find descriptors from generated code or query the descriptor_pool.\n",
      "    _descriptor.EnumValueDescriptor(\n",
      "\n",
      "../../../../../../.pyenv/versions/3.10.6/envs/lewagon/lib/python3.10/site-packages/tensorflow/core/framework/types_pb2.py:153\n",
      "  /Users/reecepalmer/.pyenv/versions/3.10.6/envs/lewagon/lib/python3.10/site-packages/tensorflow/core/framework/types_pb2.py:153: DeprecationWarning: Call to deprecated create function EnumValueDescriptor(). Note: Create unlinked descriptors is going to go away. Please use get/find descriptors from generated code or query the descriptor_pool.\n",
      "    _descriptor.EnumValueDescriptor(\n",
      "\n",
      "../../../../../../.pyenv/versions/3.10.6/envs/lewagon/lib/python3.10/site-packages/tensorflow/core/framework/types_pb2.py:157\n",
      "  /Users/reecepalmer/.pyenv/versions/3.10.6/envs/lewagon/lib/python3.10/site-packages/tensorflow/core/framework/types_pb2.py:157: DeprecationWarning: Call to deprecated create function EnumValueDescriptor(). Note: Create unlinked descriptors is going to go away. Please use get/find descriptors from generated code or query the descriptor_pool.\n",
      "    _descriptor.EnumValueDescriptor(\n",
      "\n",
      "../../../../../../.pyenv/versions/3.10.6/envs/lewagon/lib/python3.10/site-packages/tensorflow/core/framework/types_pb2.py:161\n",
      "  /Users/reecepalmer/.pyenv/versions/3.10.6/envs/lewagon/lib/python3.10/site-packages/tensorflow/core/framework/types_pb2.py:161: DeprecationWarning: Call to deprecated create function EnumValueDescriptor(). Note: Create unlinked descriptors is going to go away. Please use get/find descriptors from generated code or query the descriptor_pool.\n",
      "    _descriptor.EnumValueDescriptor(\n",
      "\n",
      "../../../../../../.pyenv/versions/3.10.6/envs/lewagon/lib/python3.10/site-packages/tensorflow/core/framework/types_pb2.py:165\n",
      "  /Users/reecepalmer/.pyenv/versions/3.10.6/envs/lewagon/lib/python3.10/site-packages/tensorflow/core/framework/types_pb2.py:165: DeprecationWarning: Call to deprecated create function EnumValueDescriptor(). Note: Create unlinked descriptors is going to go away. Please use get/find descriptors from generated code or query the descriptor_pool.\n",
      "    _descriptor.EnumValueDescriptor(\n",
      "\n",
      "../../../../../../.pyenv/versions/3.10.6/envs/lewagon/lib/python3.10/site-packages/tensorflow/core/framework/types_pb2.py:169\n",
      "  /Users/reecepalmer/.pyenv/versions/3.10.6/envs/lewagon/lib/python3.10/site-packages/tensorflow/core/framework/types_pb2.py:169: DeprecationWarning: Call to deprecated create function EnumValueDescriptor(). Note: Create unlinked descriptors is going to go away. Please use get/find descriptors from generated code or query the descriptor_pool.\n",
      "    _descriptor.EnumValueDescriptor(\n",
      "\n",
      "../../../../../../.pyenv/versions/3.10.6/envs/lewagon/lib/python3.10/site-packages/tensorflow/core/framework/types_pb2.py:173\n",
      "  /Users/reecepalmer/.pyenv/versions/3.10.6/envs/lewagon/lib/python3.10/site-packages/tensorflow/core/framework/types_pb2.py:173: DeprecationWarning: Call to deprecated create function EnumValueDescriptor(). Note: Create unlinked descriptors is going to go away. Please use get/find descriptors from generated code or query the descriptor_pool.\n",
      "    _descriptor.EnumValueDescriptor(\n",
      "\n",
      "../../../../../../.pyenv/versions/3.10.6/envs/lewagon/lib/python3.10/site-packages/tensorflow/core/framework/types_pb2.py:177\n",
      "  /Users/reecepalmer/.pyenv/versions/3.10.6/envs/lewagon/lib/python3.10/site-packages/tensorflow/core/framework/types_pb2.py:177: DeprecationWarning: Call to deprecated create function EnumValueDescriptor(). Note: Create unlinked descriptors is going to go away. Please use get/find descriptors from generated code or query the descriptor_pool.\n",
      "    _descriptor.EnumValueDescriptor(\n",
      "\n",
      "../../../../../../.pyenv/versions/3.10.6/envs/lewagon/lib/python3.10/site-packages/tensorflow/core/framework/types_pb2.py:181\n",
      "  /Users/reecepalmer/.pyenv/versions/3.10.6/envs/lewagon/lib/python3.10/site-packages/tensorflow/core/framework/types_pb2.py:181: DeprecationWarning: Call to deprecated create function EnumValueDescriptor(). Note: Create unlinked descriptors is going to go away. Please use get/find descriptors from generated code or query the descriptor_pool.\n",
      "    _descriptor.EnumValueDescriptor(\n",
      "\n",
      "../../../../../../.pyenv/versions/3.10.6/envs/lewagon/lib/python3.10/site-packages/tensorflow/core/framework/types_pb2.py:185\n",
      "  /Users/reecepalmer/.pyenv/versions/3.10.6/envs/lewagon/lib/python3.10/site-packages/tensorflow/core/framework/types_pb2.py:185: DeprecationWarning: Call to deprecated create function EnumValueDescriptor(). Note: Create unlinked descriptors is going to go away. Please use get/find descriptors from generated code or query the descriptor_pool.\n",
      "    _descriptor.EnumValueDescriptor(\n",
      "\n",
      "../../../../../../.pyenv/versions/3.10.6/envs/lewagon/lib/python3.10/site-packages/tensorflow/core/framework/types_pb2.py:189\n",
      "  /Users/reecepalmer/.pyenv/versions/3.10.6/envs/lewagon/lib/python3.10/site-packages/tensorflow/core/framework/types_pb2.py:189: DeprecationWarning: Call to deprecated create function EnumValueDescriptor(). Note: Create unlinked descriptors is going to go away. Please use get/find descriptors from generated code or query the descriptor_pool.\n",
      "    _descriptor.EnumValueDescriptor(\n",
      "\n",
      "../../../../../../.pyenv/versions/3.10.6/envs/lewagon/lib/python3.10/site-packages/tensorflow/core/framework/types_pb2.py:193\n",
      "  /Users/reecepalmer/.pyenv/versions/3.10.6/envs/lewagon/lib/python3.10/site-packages/tensorflow/core/framework/types_pb2.py:193: DeprecationWarning: Call to deprecated create function EnumValueDescriptor(). Note: Create unlinked descriptors is going to go away. Please use get/find descriptors from generated code or query the descriptor_pool.\n",
      "    _descriptor.EnumValueDescriptor(\n",
      "\n",
      "../../../../../../.pyenv/versions/3.10.6/envs/lewagon/lib/python3.10/site-packages/tensorflow/core/framework/types_pb2.py:197\n",
      "  /Users/reecepalmer/.pyenv/versions/3.10.6/envs/lewagon/lib/python3.10/site-packages/tensorflow/core/framework/types_pb2.py:197: DeprecationWarning: Call to deprecated create function EnumValueDescriptor(). Note: Create unlinked descriptors is going to go away. Please use get/find descriptors from generated code or query the descriptor_pool.\n",
      "    _descriptor.EnumValueDescriptor(\n",
      "\n",
      "../../../../../../.pyenv/versions/3.10.6/envs/lewagon/lib/python3.10/site-packages/tensorflow/core/framework/types_pb2.py:201\n",
      "  /Users/reecepalmer/.pyenv/versions/3.10.6/envs/lewagon/lib/python3.10/site-packages/tensorflow/core/framework/types_pb2.py:201: DeprecationWarning: Call to deprecated create function EnumValueDescriptor(). Note: Create unlinked descriptors is going to go away. Please use get/find descriptors from generated code or query the descriptor_pool.\n",
      "    _descriptor.EnumValueDescriptor(\n",
      "\n",
      "../../../../../../.pyenv/versions/3.10.6/envs/lewagon/lib/python3.10/site-packages/tensorflow/core/framework/types_pb2.py:205\n",
      "  /Users/reecepalmer/.pyenv/versions/3.10.6/envs/lewagon/lib/python3.10/site-packages/tensorflow/core/framework/types_pb2.py:205: DeprecationWarning: Call to deprecated create function EnumValueDescriptor(). Note: Create unlinked descriptors is going to go away. Please use get/find descriptors from generated code or query the descriptor_pool.\n",
      "    _descriptor.EnumValueDescriptor(\n",
      "\n",
      "../../../../../../.pyenv/versions/3.10.6/envs/lewagon/lib/python3.10/site-packages/tensorflow/core/framework/types_pb2.py:209\n",
      "  /Users/reecepalmer/.pyenv/versions/3.10.6/envs/lewagon/lib/python3.10/site-packages/tensorflow/core/framework/types_pb2.py:209: DeprecationWarning: Call to deprecated create function EnumValueDescriptor(). Note: Create unlinked descriptors is going to go away. Please use get/find descriptors from generated code or query the descriptor_pool.\n",
      "    _descriptor.EnumValueDescriptor(\n",
      "\n",
      "../../../../../../.pyenv/versions/3.10.6/envs/lewagon/lib/python3.10/site-packages/tensorflow/core/framework/types_pb2.py:213\n",
      "  /Users/reecepalmer/.pyenv/versions/3.10.6/envs/lewagon/lib/python3.10/site-packages/tensorflow/core/framework/types_pb2.py:213: DeprecationWarning: Call to deprecated create function EnumValueDescriptor(). Note: Create unlinked descriptors is going to go away. Please use get/find descriptors from generated code or query the descriptor_pool.\n",
      "    _descriptor.EnumValueDescriptor(\n",
      "\n",
      "../../../../../../.pyenv/versions/3.10.6/envs/lewagon/lib/python3.10/site-packages/tensorflow/core/framework/types_pb2.py:217\n",
      "  /Users/reecepalmer/.pyenv/versions/3.10.6/envs/lewagon/lib/python3.10/site-packages/tensorflow/core/framework/types_pb2.py:217: DeprecationWarning: Call to deprecated create function EnumValueDescriptor(). Note: Create unlinked descriptors is going to go away. Please use get/find descriptors from generated code or query the descriptor_pool.\n",
      "    _descriptor.EnumValueDescriptor(\n",
      "\n",
      "../../../../../../.pyenv/versions/3.10.6/envs/lewagon/lib/python3.10/site-packages/tensorflow/core/framework/types_pb2.py:27\n",
      "  /Users/reecepalmer/.pyenv/versions/3.10.6/envs/lewagon/lib/python3.10/site-packages/tensorflow/core/framework/types_pb2.py:27: DeprecationWarning: Call to deprecated create function EnumDescriptor(). Note: Create unlinked descriptors is going to go away. Please use get/find descriptors from generated code or query the descriptor_pool.\n",
      "    _DATATYPE = _descriptor.EnumDescriptor(\n",
      "\n",
      "../../../../../../.pyenv/versions/3.10.6/envs/lewagon/lib/python3.10/site-packages/tensorflow/core/framework/types_pb2.py:287\n",
      "  /Users/reecepalmer/.pyenv/versions/3.10.6/envs/lewagon/lib/python3.10/site-packages/tensorflow/core/framework/types_pb2.py:287: DeprecationWarning: Call to deprecated create function FieldDescriptor(). Note: Create unlinked descriptors is going to go away. Please use get/find descriptors from generated code or query the descriptor_pool.\n",
      "    _descriptor.FieldDescriptor(\n",
      "\n",
      "../../../../../../.pyenv/versions/3.10.6/envs/lewagon/lib/python3.10/site-packages/tensorflow/core/framework/types_pb2.py:280\n",
      "  /Users/reecepalmer/.pyenv/versions/3.10.6/envs/lewagon/lib/python3.10/site-packages/tensorflow/core/framework/types_pb2.py:280: DeprecationWarning: Call to deprecated create function Descriptor(). Note: Create unlinked descriptors is going to go away. Please use get/find descriptors from generated code or query the descriptor_pool.\n",
      "    _SERIALIZEDDTYPE = _descriptor.Descriptor(\n",
      "\n",
      "../../../../../../.pyenv/versions/3.10.6/envs/lewagon/lib/python3.10/site-packages/tensorflow/core/framework/resource_handle_pb2.py:20\n",
      "  /Users/reecepalmer/.pyenv/versions/3.10.6/envs/lewagon/lib/python3.10/site-packages/tensorflow/core/framework/resource_handle_pb2.py:20: DeprecationWarning: Call to deprecated create function FileDescriptor(). Note: Create unlinked descriptors is going to go away. Please use get/find descriptors from generated code or query the descriptor_pool.\n",
      "    DESCRIPTOR = _descriptor.FileDescriptor(\n",
      "\n",
      "../../../../../../.pyenv/versions/3.10.6/envs/lewagon/lib/python3.10/site-packages/tensorflow/core/framework/resource_handle_pb2.py:39\n",
      "  /Users/reecepalmer/.pyenv/versions/3.10.6/envs/lewagon/lib/python3.10/site-packages/tensorflow/core/framework/resource_handle_pb2.py:39: DeprecationWarning: Call to deprecated create function FieldDescriptor(). Note: Create unlinked descriptors is going to go away. Please use get/find descriptors from generated code or query the descriptor_pool.\n",
      "    _descriptor.FieldDescriptor(\n",
      "\n",
      "../../../../../../.pyenv/versions/3.10.6/envs/lewagon/lib/python3.10/site-packages/tensorflow/core/framework/resource_handle_pb2.py:46\n",
      "  /Users/reecepalmer/.pyenv/versions/3.10.6/envs/lewagon/lib/python3.10/site-packages/tensorflow/core/framework/resource_handle_pb2.py:46: DeprecationWarning: Call to deprecated create function FieldDescriptor(). Note: Create unlinked descriptors is going to go away. Please use get/find descriptors from generated code or query the descriptor_pool.\n",
      "    _descriptor.FieldDescriptor(\n",
      "\n",
      "../../../../../../.pyenv/versions/3.10.6/envs/lewagon/lib/python3.10/site-packages/tensorflow/core/framework/resource_handle_pb2.py:32\n",
      "  /Users/reecepalmer/.pyenv/versions/3.10.6/envs/lewagon/lib/python3.10/site-packages/tensorflow/core/framework/resource_handle_pb2.py:32: DeprecationWarning: Call to deprecated create function Descriptor(). Note: Create unlinked descriptors is going to go away. Please use get/find descriptors from generated code or query the descriptor_pool.\n",
      "    _RESOURCEHANDLEPROTO_DTYPEANDSHAPE = _descriptor.Descriptor(\n",
      "\n",
      "../../../../../../.pyenv/versions/3.10.6/envs/lewagon/lib/python3.10/site-packages/tensorflow/core/framework/resource_handle_pb2.py:76\n",
      "  /Users/reecepalmer/.pyenv/versions/3.10.6/envs/lewagon/lib/python3.10/site-packages/tensorflow/core/framework/resource_handle_pb2.py:76: DeprecationWarning: Call to deprecated create function FieldDescriptor(). Note: Create unlinked descriptors is going to go away. Please use get/find descriptors from generated code or query the descriptor_pool.\n",
      "    _descriptor.FieldDescriptor(\n",
      "\n",
      "../../../../../../.pyenv/versions/3.10.6/envs/lewagon/lib/python3.10/site-packages/tensorflow/core/framework/resource_handle_pb2.py:83\n",
      "  /Users/reecepalmer/.pyenv/versions/3.10.6/envs/lewagon/lib/python3.10/site-packages/tensorflow/core/framework/resource_handle_pb2.py:83: DeprecationWarning: Call to deprecated create function FieldDescriptor(). Note: Create unlinked descriptors is going to go away. Please use get/find descriptors from generated code or query the descriptor_pool.\n",
      "    _descriptor.FieldDescriptor(\n",
      "\n",
      "../../../../../../.pyenv/versions/3.10.6/envs/lewagon/lib/python3.10/site-packages/tensorflow/core/framework/resource_handle_pb2.py:90\n",
      "  /Users/reecepalmer/.pyenv/versions/3.10.6/envs/lewagon/lib/python3.10/site-packages/tensorflow/core/framework/resource_handle_pb2.py:90: DeprecationWarning: Call to deprecated create function FieldDescriptor(). Note: Create unlinked descriptors is going to go away. Please use get/find descriptors from generated code or query the descriptor_pool.\n",
      "    _descriptor.FieldDescriptor(\n",
      "\n",
      "../../../../../../.pyenv/versions/3.10.6/envs/lewagon/lib/python3.10/site-packages/tensorflow/core/framework/resource_handle_pb2.py:97\n",
      "  /Users/reecepalmer/.pyenv/versions/3.10.6/envs/lewagon/lib/python3.10/site-packages/tensorflow/core/framework/resource_handle_pb2.py:97: DeprecationWarning: Call to deprecated create function FieldDescriptor(). Note: Create unlinked descriptors is going to go away. Please use get/find descriptors from generated code or query the descriptor_pool.\n",
      "    _descriptor.FieldDescriptor(\n",
      "\n",
      "../../../../../../.pyenv/versions/3.10.6/envs/lewagon/lib/python3.10/site-packages/tensorflow/core/framework/resource_handle_pb2.py:104\n",
      "  /Users/reecepalmer/.pyenv/versions/3.10.6/envs/lewagon/lib/python3.10/site-packages/tensorflow/core/framework/resource_handle_pb2.py:104: DeprecationWarning: Call to deprecated create function FieldDescriptor(). Note: Create unlinked descriptors is going to go away. Please use get/find descriptors from generated code or query the descriptor_pool.\n",
      "    _descriptor.FieldDescriptor(\n",
      "\n",
      "../../../../../../.pyenv/versions/3.10.6/envs/lewagon/lib/python3.10/site-packages/tensorflow/core/framework/resource_handle_pb2.py:111\n",
      "  /Users/reecepalmer/.pyenv/versions/3.10.6/envs/lewagon/lib/python3.10/site-packages/tensorflow/core/framework/resource_handle_pb2.py:111: DeprecationWarning: Call to deprecated create function FieldDescriptor(). Note: Create unlinked descriptors is going to go away. Please use get/find descriptors from generated code or query the descriptor_pool.\n",
      "    _descriptor.FieldDescriptor(\n",
      "\n",
      "../../../../../../.pyenv/versions/3.10.6/envs/lewagon/lib/python3.10/site-packages/tensorflow/core/framework/resource_handle_pb2.py:69\n",
      "  /Users/reecepalmer/.pyenv/versions/3.10.6/envs/lewagon/lib/python3.10/site-packages/tensorflow/core/framework/resource_handle_pb2.py:69: DeprecationWarning: Call to deprecated create function Descriptor(). Note: Create unlinked descriptors is going to go away. Please use get/find descriptors from generated code or query the descriptor_pool.\n",
      "    _RESOURCEHANDLEPROTO = _descriptor.Descriptor(\n",
      "\n",
      "../../../../../../.pyenv/versions/3.10.6/envs/lewagon/lib/python3.10/site-packages/tensorflow/core/framework/tensor_pb2.py:21\n",
      "  /Users/reecepalmer/.pyenv/versions/3.10.6/envs/lewagon/lib/python3.10/site-packages/tensorflow/core/framework/tensor_pb2.py:21: DeprecationWarning: Call to deprecated create function FileDescriptor(). Note: Create unlinked descriptors is going to go away. Please use get/find descriptors from generated code or query the descriptor_pool.\n",
      "    DESCRIPTOR = _descriptor.FileDescriptor(\n",
      "\n",
      "../../../../../../.pyenv/versions/3.10.6/envs/lewagon/lib/python3.10/site-packages/tensorflow/core/framework/tensor_pb2.py:40\n",
      "  /Users/reecepalmer/.pyenv/versions/3.10.6/envs/lewagon/lib/python3.10/site-packages/tensorflow/core/framework/tensor_pb2.py:40: DeprecationWarning: Call to deprecated create function FieldDescriptor(). Note: Create unlinked descriptors is going to go away. Please use get/find descriptors from generated code or query the descriptor_pool.\n",
      "    _descriptor.FieldDescriptor(\n",
      "\n",
      "../../../../../../.pyenv/versions/3.10.6/envs/lewagon/lib/python3.10/site-packages/tensorflow/core/framework/tensor_pb2.py:47\n",
      "  /Users/reecepalmer/.pyenv/versions/3.10.6/envs/lewagon/lib/python3.10/site-packages/tensorflow/core/framework/tensor_pb2.py:47: DeprecationWarning: Call to deprecated create function FieldDescriptor(). Note: Create unlinked descriptors is going to go away. Please use get/find descriptors from generated code or query the descriptor_pool.\n",
      "    _descriptor.FieldDescriptor(\n",
      "\n",
      "../../../../../../.pyenv/versions/3.10.6/envs/lewagon/lib/python3.10/site-packages/tensorflow/core/framework/tensor_pb2.py:54\n",
      "  /Users/reecepalmer/.pyenv/versions/3.10.6/envs/lewagon/lib/python3.10/site-packages/tensorflow/core/framework/tensor_pb2.py:54: DeprecationWarning: Call to deprecated create function FieldDescriptor(). Note: Create unlinked descriptors is going to go away. Please use get/find descriptors from generated code or query the descriptor_pool.\n",
      "    _descriptor.FieldDescriptor(\n",
      "\n",
      "../../../../../../.pyenv/versions/3.10.6/envs/lewagon/lib/python3.10/site-packages/tensorflow/core/framework/tensor_pb2.py:61\n",
      "  /Users/reecepalmer/.pyenv/versions/3.10.6/envs/lewagon/lib/python3.10/site-packages/tensorflow/core/framework/tensor_pb2.py:61: DeprecationWarning: Call to deprecated create function FieldDescriptor(). Note: Create unlinked descriptors is going to go away. Please use get/find descriptors from generated code or query the descriptor_pool.\n",
      "    _descriptor.FieldDescriptor(\n",
      "\n",
      "../../../../../../.pyenv/versions/3.10.6/envs/lewagon/lib/python3.10/site-packages/tensorflow/core/framework/tensor_pb2.py:68\n",
      "  /Users/reecepalmer/.pyenv/versions/3.10.6/envs/lewagon/lib/python3.10/site-packages/tensorflow/core/framework/tensor_pb2.py:68: DeprecationWarning: Call to deprecated create function FieldDescriptor(). Note: Create unlinked descriptors is going to go away. Please use get/find descriptors from generated code or query the descriptor_pool.\n",
      "    _descriptor.FieldDescriptor(\n",
      "\n",
      "../../../../../../.pyenv/versions/3.10.6/envs/lewagon/lib/python3.10/site-packages/tensorflow/core/framework/tensor_pb2.py:75\n",
      "  /Users/reecepalmer/.pyenv/versions/3.10.6/envs/lewagon/lib/python3.10/site-packages/tensorflow/core/framework/tensor_pb2.py:75: DeprecationWarning: Call to deprecated create function FieldDescriptor(). Note: Create unlinked descriptors is going to go away. Please use get/find descriptors from generated code or query the descriptor_pool.\n",
      "    _descriptor.FieldDescriptor(\n",
      "\n",
      "../../../../../../.pyenv/versions/3.10.6/envs/lewagon/lib/python3.10/site-packages/tensorflow/core/framework/tensor_pb2.py:82\n",
      "  /Users/reecepalmer/.pyenv/versions/3.10.6/envs/lewagon/lib/python3.10/site-packages/tensorflow/core/framework/tensor_pb2.py:82: DeprecationWarning: Call to deprecated create function FieldDescriptor(). Note: Create unlinked descriptors is going to go away. Please use get/find descriptors from generated code or query the descriptor_pool.\n",
      "    _descriptor.FieldDescriptor(\n",
      "\n",
      "../../../../../../.pyenv/versions/3.10.6/envs/lewagon/lib/python3.10/site-packages/tensorflow/core/framework/tensor_pb2.py:89\n",
      "  /Users/reecepalmer/.pyenv/versions/3.10.6/envs/lewagon/lib/python3.10/site-packages/tensorflow/core/framework/tensor_pb2.py:89: DeprecationWarning: Call to deprecated create function FieldDescriptor(). Note: Create unlinked descriptors is going to go away. Please use get/find descriptors from generated code or query the descriptor_pool.\n",
      "    _descriptor.FieldDescriptor(\n",
      "\n",
      "../../../../../../.pyenv/versions/3.10.6/envs/lewagon/lib/python3.10/site-packages/tensorflow/core/framework/tensor_pb2.py:96\n",
      "  /Users/reecepalmer/.pyenv/versions/3.10.6/envs/lewagon/lib/python3.10/site-packages/tensorflow/core/framework/tensor_pb2.py:96: DeprecationWarning: Call to deprecated create function FieldDescriptor(). Note: Create unlinked descriptors is going to go away. Please use get/find descriptors from generated code or query the descriptor_pool.\n",
      "    _descriptor.FieldDescriptor(\n",
      "\n",
      "../../../../../../.pyenv/versions/3.10.6/envs/lewagon/lib/python3.10/site-packages/tensorflow/core/framework/tensor_pb2.py:103\n",
      "  /Users/reecepalmer/.pyenv/versions/3.10.6/envs/lewagon/lib/python3.10/site-packages/tensorflow/core/framework/tensor_pb2.py:103: DeprecationWarning: Call to deprecated create function FieldDescriptor(). Note: Create unlinked descriptors is going to go away. Please use get/find descriptors from generated code or query the descriptor_pool.\n",
      "    _descriptor.FieldDescriptor(\n",
      "\n",
      "../../../../../../.pyenv/versions/3.10.6/envs/lewagon/lib/python3.10/site-packages/tensorflow/core/framework/tensor_pb2.py:110\n",
      "  /Users/reecepalmer/.pyenv/versions/3.10.6/envs/lewagon/lib/python3.10/site-packages/tensorflow/core/framework/tensor_pb2.py:110: DeprecationWarning: Call to deprecated create function FieldDescriptor(). Note: Create unlinked descriptors is going to go away. Please use get/find descriptors from generated code or query the descriptor_pool.\n",
      "    _descriptor.FieldDescriptor(\n",
      "\n",
      "../../../../../../.pyenv/versions/3.10.6/envs/lewagon/lib/python3.10/site-packages/tensorflow/core/framework/tensor_pb2.py:117\n",
      "  /Users/reecepalmer/.pyenv/versions/3.10.6/envs/lewagon/lib/python3.10/site-packages/tensorflow/core/framework/tensor_pb2.py:117: DeprecationWarning: Call to deprecated create function FieldDescriptor(). Note: Create unlinked descriptors is going to go away. Please use get/find descriptors from generated code or query the descriptor_pool.\n",
      "    _descriptor.FieldDescriptor(\n",
      "\n",
      "../../../../../../.pyenv/versions/3.10.6/envs/lewagon/lib/python3.10/site-packages/tensorflow/core/framework/tensor_pb2.py:124\n",
      "  /Users/reecepalmer/.pyenv/versions/3.10.6/envs/lewagon/lib/python3.10/site-packages/tensorflow/core/framework/tensor_pb2.py:124: DeprecationWarning: Call to deprecated create function FieldDescriptor(). Note: Create unlinked descriptors is going to go away. Please use get/find descriptors from generated code or query the descriptor_pool.\n",
      "    _descriptor.FieldDescriptor(\n",
      "\n",
      "../../../../../../.pyenv/versions/3.10.6/envs/lewagon/lib/python3.10/site-packages/tensorflow/core/framework/tensor_pb2.py:131\n",
      "  /Users/reecepalmer/.pyenv/versions/3.10.6/envs/lewagon/lib/python3.10/site-packages/tensorflow/core/framework/tensor_pb2.py:131: DeprecationWarning: Call to deprecated create function FieldDescriptor(). Note: Create unlinked descriptors is going to go away. Please use get/find descriptors from generated code or query the descriptor_pool.\n",
      "    _descriptor.FieldDescriptor(\n",
      "\n",
      "../../../../../../.pyenv/versions/3.10.6/envs/lewagon/lib/python3.10/site-packages/tensorflow/core/framework/tensor_pb2.py:138\n",
      "  /Users/reecepalmer/.pyenv/versions/3.10.6/envs/lewagon/lib/python3.10/site-packages/tensorflow/core/framework/tensor_pb2.py:138: DeprecationWarning: Call to deprecated create function FieldDescriptor(). Note: Create unlinked descriptors is going to go away. Please use get/find descriptors from generated code or query the descriptor_pool.\n",
      "    _descriptor.FieldDescriptor(\n",
      "\n",
      "../../../../../../.pyenv/versions/3.10.6/envs/lewagon/lib/python3.10/site-packages/tensorflow/core/framework/tensor_pb2.py:145\n",
      "  /Users/reecepalmer/.pyenv/versions/3.10.6/envs/lewagon/lib/python3.10/site-packages/tensorflow/core/framework/tensor_pb2.py:145: DeprecationWarning: Call to deprecated create function FieldDescriptor(). Note: Create unlinked descriptors is going to go away. Please use get/find descriptors from generated code or query the descriptor_pool.\n",
      "    _descriptor.FieldDescriptor(\n",
      "\n",
      "../../../../../../.pyenv/versions/3.10.6/envs/lewagon/lib/python3.10/site-packages/tensorflow/core/framework/tensor_pb2.py:152\n",
      "  /Users/reecepalmer/.pyenv/versions/3.10.6/envs/lewagon/lib/python3.10/site-packages/tensorflow/core/framework/tensor_pb2.py:152: DeprecationWarning: Call to deprecated create function FieldDescriptor(). Note: Create unlinked descriptors is going to go away. Please use get/find descriptors from generated code or query the descriptor_pool.\n",
      "    _descriptor.FieldDescriptor(\n",
      "\n",
      "../../../../../../.pyenv/versions/3.10.6/envs/lewagon/lib/python3.10/site-packages/tensorflow/core/framework/tensor_pb2.py:33\n",
      "  /Users/reecepalmer/.pyenv/versions/3.10.6/envs/lewagon/lib/python3.10/site-packages/tensorflow/core/framework/tensor_pb2.py:33: DeprecationWarning: Call to deprecated create function Descriptor(). Note: Create unlinked descriptors is going to go away. Please use get/find descriptors from generated code or query the descriptor_pool.\n",
      "    _TENSORPROTO = _descriptor.Descriptor(\n",
      "\n",
      "../../../../../../.pyenv/versions/3.10.6/envs/lewagon/lib/python3.10/site-packages/tensorflow/core/framework/tensor_pb2.py:183\n",
      "  /Users/reecepalmer/.pyenv/versions/3.10.6/envs/lewagon/lib/python3.10/site-packages/tensorflow/core/framework/tensor_pb2.py:183: DeprecationWarning: Call to deprecated create function FieldDescriptor(). Note: Create unlinked descriptors is going to go away. Please use get/find descriptors from generated code or query the descriptor_pool.\n",
      "    _descriptor.FieldDescriptor(\n",
      "\n",
      "../../../../../../.pyenv/versions/3.10.6/envs/lewagon/lib/python3.10/site-packages/tensorflow/core/framework/tensor_pb2.py:190\n",
      "  /Users/reecepalmer/.pyenv/versions/3.10.6/envs/lewagon/lib/python3.10/site-packages/tensorflow/core/framework/tensor_pb2.py:190: DeprecationWarning: Call to deprecated create function FieldDescriptor(). Note: Create unlinked descriptors is going to go away. Please use get/find descriptors from generated code or query the descriptor_pool.\n",
      "    _descriptor.FieldDescriptor(\n",
      "\n",
      "../../../../../../.pyenv/versions/3.10.6/envs/lewagon/lib/python3.10/site-packages/tensorflow/core/framework/tensor_pb2.py:197\n",
      "  /Users/reecepalmer/.pyenv/versions/3.10.6/envs/lewagon/lib/python3.10/site-packages/tensorflow/core/framework/tensor_pb2.py:197: DeprecationWarning: Call to deprecated create function FieldDescriptor(). Note: Create unlinked descriptors is going to go away. Please use get/find descriptors from generated code or query the descriptor_pool.\n",
      "    _descriptor.FieldDescriptor(\n",
      "\n",
      "../../../../../../.pyenv/versions/3.10.6/envs/lewagon/lib/python3.10/site-packages/tensorflow/core/framework/tensor_pb2.py:176\n",
      "  /Users/reecepalmer/.pyenv/versions/3.10.6/envs/lewagon/lib/python3.10/site-packages/tensorflow/core/framework/tensor_pb2.py:176: DeprecationWarning: Call to deprecated create function Descriptor(). Note: Create unlinked descriptors is going to go away. Please use get/find descriptors from generated code or query the descriptor_pool.\n",
      "    _VARIANTTENSORDATAPROTO = _descriptor.Descriptor(\n",
      "\n",
      "../../../../../../.pyenv/versions/3.10.6/envs/lewagon/lib/python3.10/site-packages/tensorflow/core/framework/attr_value_pb2.py:21\n",
      "  /Users/reecepalmer/.pyenv/versions/3.10.6/envs/lewagon/lib/python3.10/site-packages/tensorflow/core/framework/attr_value_pb2.py:21: DeprecationWarning: Call to deprecated create function FileDescriptor(). Note: Create unlinked descriptors is going to go away. Please use get/find descriptors from generated code or query the descriptor_pool.\n",
      "    DESCRIPTOR = _descriptor.FileDescriptor(\n",
      "\n",
      "../../../../../../.pyenv/versions/3.10.6/envs/lewagon/lib/python3.10/site-packages/tensorflow/core/framework/attr_value_pb2.py:40\n",
      "  /Users/reecepalmer/.pyenv/versions/3.10.6/envs/lewagon/lib/python3.10/site-packages/tensorflow/core/framework/attr_value_pb2.py:40: DeprecationWarning: Call to deprecated create function FieldDescriptor(). Note: Create unlinked descriptors is going to go away. Please use get/find descriptors from generated code or query the descriptor_pool.\n",
      "    _descriptor.FieldDescriptor(\n",
      "\n",
      "../../../../../../.pyenv/versions/3.10.6/envs/lewagon/lib/python3.10/site-packages/tensorflow/core/framework/attr_value_pb2.py:47\n",
      "  /Users/reecepalmer/.pyenv/versions/3.10.6/envs/lewagon/lib/python3.10/site-packages/tensorflow/core/framework/attr_value_pb2.py:47: DeprecationWarning: Call to deprecated create function FieldDescriptor(). Note: Create unlinked descriptors is going to go away. Please use get/find descriptors from generated code or query the descriptor_pool.\n",
      "    _descriptor.FieldDescriptor(\n",
      "\n",
      "../../../../../../.pyenv/versions/3.10.6/envs/lewagon/lib/python3.10/site-packages/tensorflow/core/framework/attr_value_pb2.py:54\n",
      "  /Users/reecepalmer/.pyenv/versions/3.10.6/envs/lewagon/lib/python3.10/site-packages/tensorflow/core/framework/attr_value_pb2.py:54: DeprecationWarning: Call to deprecated create function FieldDescriptor(). Note: Create unlinked descriptors is going to go away. Please use get/find descriptors from generated code or query the descriptor_pool.\n",
      "    _descriptor.FieldDescriptor(\n",
      "\n",
      "../../../../../../.pyenv/versions/3.10.6/envs/lewagon/lib/python3.10/site-packages/tensorflow/core/framework/attr_value_pb2.py:61\n",
      "  /Users/reecepalmer/.pyenv/versions/3.10.6/envs/lewagon/lib/python3.10/site-packages/tensorflow/core/framework/attr_value_pb2.py:61: DeprecationWarning: Call to deprecated create function FieldDescriptor(). Note: Create unlinked descriptors is going to go away. Please use get/find descriptors from generated code or query the descriptor_pool.\n",
      "    _descriptor.FieldDescriptor(\n",
      "\n",
      "../../../../../../.pyenv/versions/3.10.6/envs/lewagon/lib/python3.10/site-packages/tensorflow/core/framework/attr_value_pb2.py:68\n",
      "  /Users/reecepalmer/.pyenv/versions/3.10.6/envs/lewagon/lib/python3.10/site-packages/tensorflow/core/framework/attr_value_pb2.py:68: DeprecationWarning: Call to deprecated create function FieldDescriptor(). Note: Create unlinked descriptors is going to go away. Please use get/find descriptors from generated code or query the descriptor_pool.\n",
      "    _descriptor.FieldDescriptor(\n",
      "\n",
      "../../../../../../.pyenv/versions/3.10.6/envs/lewagon/lib/python3.10/site-packages/tensorflow/core/framework/attr_value_pb2.py:75\n",
      "  /Users/reecepalmer/.pyenv/versions/3.10.6/envs/lewagon/lib/python3.10/site-packages/tensorflow/core/framework/attr_value_pb2.py:75: DeprecationWarning: Call to deprecated create function FieldDescriptor(). Note: Create unlinked descriptors is going to go away. Please use get/find descriptors from generated code or query the descriptor_pool.\n",
      "    _descriptor.FieldDescriptor(\n",
      "\n",
      "../../../../../../.pyenv/versions/3.10.6/envs/lewagon/lib/python3.10/site-packages/tensorflow/core/framework/attr_value_pb2.py:82\n",
      "  /Users/reecepalmer/.pyenv/versions/3.10.6/envs/lewagon/lib/python3.10/site-packages/tensorflow/core/framework/attr_value_pb2.py:82: DeprecationWarning: Call to deprecated create function FieldDescriptor(). Note: Create unlinked descriptors is going to go away. Please use get/find descriptors from generated code or query the descriptor_pool.\n",
      "    _descriptor.FieldDescriptor(\n",
      "\n",
      "-- Docs: https://docs.pytest.org/en/stable/how-to/capture-warnings.html\n",
      "\u001b[33m======================= \u001b[32m15 passed\u001b[0m, \u001b[33m\u001b[1m100 warnings\u001b[0m\u001b[33m in 2.24s\u001b[0m\u001b[33m =======================\u001b[0m\n",
      "\n",
      "\n",
      "💯 You can commit your code:\n",
      "\n",
      "\u001b[1;32mgit\u001b[39m add tests/tensors.pickle\n",
      "\n",
      "\u001b[32mgit\u001b[39m commit -m \u001b[33m'Completed tensors step'\u001b[39m\n",
      "\n",
      "\u001b[32mgit\u001b[39m push origin master\n",
      "\n"
     ]
    }
   ],
   "source": [
    "from nbresult import ChallengeResult\n",
    "\n",
    "result = ChallengeResult('tensors',\n",
    "                            a = a,\n",
    "                            b = b,\n",
    "                            c = c,\n",
    "                            d_shape = d.shape,\n",
    "                            e = e,\n",
    "                            f = f,\n",
    "                            g = g,\n",
    "                            h = h,\n",
    "                            i = i,\n",
    "                            j = j,\n",
    "                            k = k,\n",
    "                            l = l,\n",
    "                            m = m,\n",
    "                            n = n,\n",
    "                            o_shape = o.shape\n",
    ")\n",
    "\n",
    "result.write()\n",
    "print(result.check())\n"
   ]
  },
  {
   "cell_type": "markdown",
   "metadata": {},
   "source": [
    "### Great work 🔥\n",
    "\n",
    "Now it's time to get stuck into some modelling!"
   ]
  }
 ],
 "metadata": {
  "kernelspec": {
   "display_name": "Python 3",
   "language": "python",
   "name": "python3"
  },
  "language_info": {
   "codemirror_mode": {
    "name": "ipython",
    "version": 3
   },
   "file_extension": ".py",
   "mimetype": "text/x-python",
   "name": "python",
   "nbconvert_exporter": "python",
   "pygments_lexer": "ipython3",
   "version": "3.10.6"
  }
 },
 "nbformat": 4,
 "nbformat_minor": 5
}
